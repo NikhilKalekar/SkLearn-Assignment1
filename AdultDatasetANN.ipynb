{
  "nbformat": 4,
  "nbformat_minor": 0,
  "metadata": {
    "colab": {
      "name": "AdultDatasetANN.ipynb",
      "version": "0.3.2",
      "provenance": [],
      "collapsed_sections": []
    },
    "kernelspec": {
      "name": "python3",
      "display_name": "Python 3"
    }
  },
  "cells": [
    {
      "metadata": {
        "id": "UjFldIsXIu84",
        "colab_type": "code",
        "colab": {}
      },
      "cell_type": "code",
      "source": [
        "#Q2. -> Multivariate)\n",
        "\n",
        "import numpy as np\n",
        "import pandas as pd\n",
        "DF = pd.read_csv(\"http://mlr.cs.umass.edu/ml/machine-learning-databases/adult/adult.data\", names=[\"age\",\"workclass\",\"fnlwgt\",\"education\",\"education_num\",\"marital_status\",\"occupation\",\"relationship\",\"race\",\"sex\",\"CapitalGain\",\"CapitalLoss\",\"hoursWorked\",\"nativeCountry\",\"CLASS\"])\n",
        "#DF.dtypes\n",
        "#https://archive.ics.uci.edu/ml/machine-learning-databases/adult/adult.data\n",
        "#http://mlr.cs.umass.edu/ml/machine-learning-databases/adult/adult.data\n"
      ],
      "execution_count": 0,
      "outputs": []
    },
    {
      "metadata": {
        "id": "vk9L4HxKotNS",
        "colab_type": "code",
        "colab": {}
      },
      "cell_type": "code",
      "source": [
        "from sklearn.model_selection import train_test_split\n",
        "from sklearn import preprocessing\n",
        "from sklearn.preprocessing import LabelEncoder\n",
        "#DF"
      ],
      "execution_count": 0,
      "outputs": []
    },
    {
      "metadata": {
        "id": "bXYwRYVPrWeK",
        "colab_type": "code",
        "colab": {}
      },
      "cell_type": "code",
      "source": [
        "Encoder= LabelEncoder()\n",
        "DF.workclass=Encoder.fit_transform(DF.workclass)\n",
        "DF.education=Encoder.fit_transform(DF.education)\n",
        "DF.marital_status=Encoder.fit_transform(DF.marital_status)\n",
        "DF.occupation=Encoder.fit_transform(DF.occupation)\n",
        "DF.relationship=Encoder.fit_transform(DF.relationship)\n",
        "DF.race=Encoder.fit_transform(DF.race)\n",
        "DF.sex=Encoder.fit_transform(DF.sex)\n",
        "DF.nativeCountry=Encoder.fit_transform(DF.nativeCountry)\n",
        "DF.CLASS=Encoder.fit_transform(DF.CLASS)\n",
        "DF=DF.astype(float)\n",
        "#DF['CLASS']=DF['CLASS'].astype(int)\n",
        "#DF.dtypes\n",
        "X=DF.iloc[:,0:14]\n",
        "Y=DF.iloc[:,14:15]\n",
        "#X\n",
        "#Y\n"
      ],
      "execution_count": 0,
      "outputs": []
    },
    {
      "metadata": {
        "id": "ShwCXjcau-ay",
        "colab_type": "code",
        "colab": {}
      },
      "cell_type": "code",
      "source": [
        "X_train, X_test, Y_train, Y_test = train_test_split(X, Y, test_size=0.4)\n",
        "from sklearn.preprocessing import StandardScaler\n",
        "scaler = StandardScaler()\n",
        "#X_train= scaler.fit_transform(X_train)\n",
        "scaler.fit(X_train)\n",
        "X_train = scaler.transform(X_train)\n",
        "X_test = scaler.transform(X_test)"
      ],
      "execution_count": 0,
      "outputs": []
    },
    {
      "metadata": {
        "id": "lFDPuaj11we-",
        "colab_type": "code",
        "colab": {}
      },
      "cell_type": "code",
      "source": [
        "\n",
        "from sklearn.neural_network import MLPClassifier"
      ],
      "execution_count": 0,
      "outputs": []
    },
    {
      "metadata": {
        "id": "m1msXnGyYw_5",
        "colab_type": "code",
        "outputId": "2c125507-af30-4f2e-a83e-2262d9e0b041",
        "colab": {
          "base_uri": "https://localhost:8080/",
          "height": 202
        }
      },
      "cell_type": "code",
      "source": [
        "\n",
        "MLPobj= MLPClassifier(hidden_layer_sizes=(20,10,5), learning_rate='adaptive')\n",
        "MLPobj.fit(X_train, Y_train)"
      ],
      "execution_count": 0,
      "outputs": [
        {
          "output_type": "stream",
          "text": [
            "/usr/local/lib/python3.6/dist-packages/sklearn/neural_network/multilayer_perceptron.py:912: DataConversionWarning: A column-vector y was passed when a 1d array was expected. Please change the shape of y to (n_samples, ), for example using ravel().\n",
            "  y = column_or_1d(y, warn=True)\n"
          ],
          "name": "stderr"
        },
        {
          "output_type": "execute_result",
          "data": {
            "text/plain": [
              "MLPClassifier(activation='relu', alpha=0.0001, batch_size='auto', beta_1=0.9,\n",
              "       beta_2=0.999, early_stopping=False, epsilon=1e-08,\n",
              "       hidden_layer_sizes=(20, 10, 5), learning_rate='adaptive',\n",
              "       learning_rate_init=0.001, max_iter=200, momentum=0.9,\n",
              "       nesterovs_momentum=True, power_t=0.5, random_state=None,\n",
              "       shuffle=True, solver='adam', tol=0.0001, validation_fraction=0.1,\n",
              "       verbose=False, warm_start=False)"
            ]
          },
          "metadata": {
            "tags": []
          },
          "execution_count": 16
        }
      ]
    },
    {
      "metadata": {
        "id": "U-L2O1WtZQfE",
        "colab_type": "code",
        "colab": {}
      },
      "cell_type": "code",
      "source": [
        "\n",
        "#MLPobj.fit(X_test,Y_test)\n",
        "predictions=MLPobj.predict(X_test)\n"
      ],
      "execution_count": 0,
      "outputs": []
    },
    {
      "metadata": {
        "id": "TCNDubo5xx6u",
        "colab_type": "code",
        "outputId": "92c5984c-3eab-42b4-8ea7-1a08048a2db6",
        "colab": {
          "base_uri": "https://localhost:8080/",
          "height": 35
        }
      },
      "cell_type": "code",
      "source": [
        "\n",
        "MLPobj.score(X_test,Y_test)"
      ],
      "execution_count": 0,
      "outputs": [
        {
          "output_type": "execute_result",
          "data": {
            "text/plain": [
              "0.8528214971209213"
            ]
          },
          "metadata": {
            "tags": []
          },
          "execution_count": 18
        }
      ]
    },
    {
      "metadata": {
        "id": "sNPPnxLvaInb",
        "colab_type": "code",
        "outputId": "487486fa-45f4-4803-bdfc-80426f31358c",
        "colab": {
          "base_uri": "https://localhost:8080/",
          "height": 182
        }
      },
      "cell_type": "code",
      "source": [
        "\n",
        "from sklearn.metrics import classification_report,confusion_matrix\n",
        "print(confusion_matrix(Y_test,predictions))\n",
        "print(classification_report(Y_test,predictions))\n"
      ],
      "execution_count": 0,
      "outputs": [
        {
          "output_type": "stream",
          "text": [
            "[[9280  605]\n",
            " [1312 1828]]\n",
            "             precision    recall  f1-score   support\n",
            "\n",
            "        0.0       0.88      0.94      0.91      9885\n",
            "        1.0       0.75      0.58      0.66      3140\n",
            "\n",
            "avg / total       0.85      0.85      0.85     13025\n",
            "\n"
          ],
          "name": "stdout"
        }
      ]
    },
    {
      "metadata": {
        "id": "NnLIU7uj0J4E",
        "colab_type": "code",
        "colab": {}
      },
      "cell_type": "code",
      "source": [
        ""
      ],
      "execution_count": 0,
      "outputs": []
    }
  ]
}